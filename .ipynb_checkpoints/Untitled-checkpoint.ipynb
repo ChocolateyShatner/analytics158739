{
 "cells": [
  {
   "cell_type": "markdown",
   "id": "65b2540b",
   "metadata": {},
   "source": [
    "Question I am trying to answer\n",
    "\n",
    "Is there money to be made by taking into account if a tennis player has famous parents, when betting on a tennis player.\n",
    "Is having a famous parent an indicatory of future success \n",
    "\n",
    "Two things that make me wonder this. Firstly there are two of the top 100 woman tennis players have billionare parent. Second a tweet I saw wondering why so many formula one drivers fathers have hyperlinks in wikipedia (hinting that you need a rich father to become a formular 1 driver).\n",
    "\n",
    "Info we will need\n",
    "Betting odds for tennis matches from the last 10 years\n",
    "List of tennis players from the last 10 years\n",
    "List of tennis players that have wiki pages, and a boolean if there parents have wiki pages\n",
    "\n",
    "How else can we work out if a tennis player has a rich parent?\n",
    "\n",
    "\n",
    "\n",
    "\n",
    "Would the logic be \"if parents are rich bet on that one. Give return on betting over 10 years\"\n",
    "\n",
    "Or look to see win % vs parents with hyperlinks\n",
    "\n",
    "\n",
    "\n",
    "\n"
   ]
  },
  {
   "cell_type": "code",
   "execution_count": 1,
   "id": "0b6b0671",
   "metadata": {},
   "outputs": [
    {
     "name": "stdout",
     "output_type": "stream",
     "text": [
      "{'meta': {'title': 'Live Tennis API - Tennis Tournaments for ATP 2020', 'description': 'List of tournaments for given code and season', 'fields': {'id': 'Integer - unique tournament_id for use querying other endpoints', 'name': 'String', 'city': 'String', 'country': 'String', 'surface': 'String - tournament surface type i.e Clay, Hard Indoor, Hard Outdoor, Grass', 'code': 'String - tour_code', 'start_date': 'Date - YYYY-MM-DD', 'end_date': 'Date - YYYY-MM-DD', 'season': 'Integer - tour_season_id'}}, 'results': [{'id': 1143, 'name': 'Qatar ExxonMobil Open', 'city': 'Doha', 'country': 'Qatar', 'surface': 'Outdoor Hard', 'code': 'ATP', 'start_date': '2020-01-06', 'end_date': '2020-01-11', 'season': 2020, 'country_code': 'QAT'}, {'id': 1144, 'name': 'Adelaide International', 'city': 'Adelaide', 'country': 'Australia', 'surface': 'Outdoor Hard', 'code': 'ATP', 'start_date': '2020-01-12', 'end_date': '2020-01-18', 'season': 2020, 'country_code': 'AUS'}, {'id': 1145, 'name': 'ASB Classic', 'city': 'Auckland', 'country': 'New Zealand', 'surface': 'Outdoor Hard', 'code': 'ATP', 'start_date': '2020-01-13', 'end_date': '2020-01-18', 'season': 2020, 'country_code': 'NZL'}, {'id': 1146, 'name': 'Australian Open', 'city': 'Melbourne', 'country': 'Australia', 'surface': 'Outdoor Hard', 'code': 'ATP', 'start_date': '2020-01-20', 'end_date': '2020-02-03', 'season': 2020, 'country_code': 'AUS'}, {'id': 1147, 'name': 'Cordoba Open', 'city': 'Cordoba', 'country': 'Argentina', 'surface': 'Outdoor Clay', 'code': 'ATP', 'start_date': '2020-02-03', 'end_date': '2020-02-09', 'season': 2020, 'country_code': 'ARG'}, {'id': 1148, 'name': 'Open Sud de France', 'city': 'Montpellier', 'country': 'France', 'surface': 'Indoor Hard', 'code': 'ATP', 'start_date': '2020-02-03', 'end_date': '2020-02-09', 'season': 2020, 'country_code': 'FRA'}, {'id': 1149, 'name': 'Tata Open Maharashtra', 'city': 'Pune', 'country': 'India', 'surface': 'Outdoor Hard', 'code': 'ATP', 'start_date': '2020-02-03', 'end_date': '2020-02-09', 'season': 2020, 'country_code': 'IND'}, {'id': 1150, 'name': 'ABN AMRO World Tennis Tournament', 'city': 'Rotterdam', 'country': 'Netherlands', 'surface': 'Indoor Hard', 'code': 'ATP', 'start_date': '2020-02-10', 'end_date': '2020-02-16', 'season': 2020, 'country_code': 'NLD'}, {'id': 1151, 'name': 'Argentina Open', 'city': 'Buenos Aires', 'country': 'Argentina', 'surface': 'Outdoor Clay', 'code': 'ATP', 'start_date': '2020-02-10', 'end_date': '2020-02-16', 'season': 2020, 'country_code': 'ARG'}, {'id': 1152, 'name': 'New York Open', 'city': 'New York', 'country': 'NY', 'surface': 'Indoor Hard', 'code': 'ATP', 'start_date': '2020-02-10', 'end_date': '2020-02-16', 'season': 2020, 'country_code': False}, {'id': 1153, 'name': 'Rio Open presented by Claro', 'city': 'Rio de Janeiro', 'country': 'Brazil', 'surface': 'Outdoor Clay', 'code': 'ATP', 'start_date': '2020-02-17', 'end_date': '2020-02-23', 'season': 2020, 'country_code': 'BRA'}, {'id': 1154, 'name': 'Delray Beach Open by VITACOST.com', 'city': 'Delray Beach', 'country': 'USA', 'surface': 'Outdoor Hard', 'code': 'ATP', 'start_date': '2020-02-17', 'end_date': '2020-02-23', 'season': 2020, 'country_code': 'USA'}, {'id': 1155, 'name': 'Open 13 Provence', 'city': 'Marseille', 'country': 'France', 'surface': 'Indoor Hard', 'code': 'ATP', 'start_date': '2020-02-17', 'end_date': '2020-02-23', 'season': 2020, 'country_code': 'FRA'}, {'id': 1156, 'name': 'Abierto Mexicano Telcel presentado por HSBC', 'city': 'Acapulco', 'country': 'Mexico', 'surface': 'Outdoor Hard', 'code': 'ATP', 'start_date': '2020-02-24', 'end_date': '2020-02-29', 'season': 2020, 'country_code': 'MEX'}, {'id': 1157, 'name': 'Chile Dove Men+Care Open', 'city': 'Santiago', 'country': 'Chile', 'surface': 'Outdoor Clay', 'code': 'ATP', 'start_date': '2020-02-24', 'end_date': '2020-03-01', 'season': 2020, 'country_code': 'CHL'}, {'id': 1158, 'name': 'Dubai Duty Free Tennis Championships', 'city': 'Dubai', 'country': 'U.A.E.', 'surface': 'Outdoor Hard', 'code': 'ATP', 'start_date': '2020-02-24', 'end_date': '2020-02-29', 'season': 2020, 'country_code': False}, {'id': 1160, 'name': 'BNP Paribas Open (Suspended)', 'city': 'Indian Wells', 'country': 'USA', 'surface': 'Outdoor Hard', 'code': 'ATP', 'start_date': '2020-03-12', 'end_date': '2020-03-22', 'season': 2020, 'country_code': 'USA'}, {'id': 1161, 'name': 'Miami Open presented by Itau (Suspended)', 'city': 'Miami', 'country': 'USA', 'surface': 'Outdoor Hard', 'code': 'ATP', 'start_date': '2020-03-25', 'end_date': '2020-04-05', 'season': 2020, 'country_code': 'USA'}, {'id': 1162, 'name': \"Fayez Sarofim & Co. U.S. Men's Clay Court Championship (Suspended)\", 'city': 'Houston', 'country': 'USA', 'surface': 'Outdoor Clay', 'code': 'ATP', 'start_date': '2020-04-06', 'end_date': '2020-04-12', 'season': 2020, 'country_code': 'USA'}, {'id': 1163, 'name': 'Grand Prix Hassan II (Suspended)', 'city': 'Marrakech', 'country': 'Morocco', 'surface': 'Outdoor Clay', 'code': 'ATP', 'start_date': '2020-04-06', 'end_date': '2020-04-12', 'season': 2020, 'country_code': 'MAR'}, {'id': 1164, 'name': 'Rolex Monte-Carlo Masters (Suspended)', 'city': 'Monte Carlo', 'country': 'Monaco', 'surface': 'Outdoor Clay', 'code': 'ATP', 'start_date': '2020-04-12', 'end_date': '2020-04-19', 'season': 2020, 'country_code': 'MCO'}, {'id': 1165, 'name': 'Barcelona Open Banc Sabadell (Suspended)', 'city': 'Barcelona', 'country': 'Spain', 'surface': 'Outdoor Clay', 'code': 'ATP', 'start_date': '2020-04-20', 'end_date': '2020-04-26', 'season': 2020, 'country_code': 'ESP'}, {'id': 1166, 'name': 'Hungarian Open (Suspended)', 'city': 'Budapest', 'country': 'Hungary', 'surface': 'Outdoor Clay', 'code': 'ATP', 'start_date': '2020-04-20', 'end_date': '2020-04-26', 'season': 2020, 'country_code': 'HUN'}, {'id': 1167, 'name': 'BMW Open by FWU (Suspended)', 'city': 'Munich', 'country': 'Germany', 'surface': 'Outdoor Clay', 'code': 'ATP', 'start_date': '2020-04-27', 'end_date': '2020-05-03', 'season': 2020, 'country_code': 'DEU'}, {'id': 1168, 'name': 'Millennium Estoril Open (Suspended)', 'city': 'Estoril', 'country': 'Portugal', 'surface': 'Outdoor Clay', 'code': 'ATP', 'start_date': '2020-04-27', 'end_date': '2020-05-03', 'season': 2020, 'country_code': 'PRT'}, {'id': 1171, 'name': 'Gonet Geneva Open (Suspended)', 'city': 'Geneva', 'country': 'Switzerland', 'surface': 'Outdoor Clay', 'code': 'ATP', 'start_date': '2020-05-17', 'end_date': '2020-05-23', 'season': 2020, 'country_code': 'CHE'}, {'id': 1172, 'name': 'Open Parc Auvergne-Rhone-Alpes Lyon (Suspended)', 'city': 'Lyon', 'country': 'France', 'surface': 'Outdoor Clay', 'code': 'ATP', 'start_date': '2020-05-17', 'end_date': '2020-05-23', 'season': 2020, 'country_code': 'FRA'}, {'id': 1174, 'name': 'Libema Open (Suspended)', 'city': \"'s-Hertogenbosch\", 'country': 'Netherlands', 'surface': 'Outdoor Grass', 'code': 'ATP', 'start_date': '2020-06-08', 'end_date': '2020-06-14', 'season': 2020, 'country_code': 'NLD'}, {'id': 1175, 'name': 'MercedesCup (Suspended)', 'city': 'Stuttgart', 'country': 'Germany', 'surface': 'Outdoor Grass', 'code': 'ATP', 'start_date': '2020-06-08', 'end_date': '2020-06-14', 'season': 2020, 'country_code': 'DEU'}, {'id': 1177, 'name': 'NOVENTI OPEN (Suspended)', 'city': 'Halle', 'country': 'Germany', 'surface': 'Outdoor Grass', 'code': 'ATP', 'start_date': '2020-06-15', 'end_date': '2020-06-21', 'season': 2020, 'country_code': 'DEU'}, {'id': 1176, 'name': 'Fever-Tree Championships (Suspended)', 'city': 'London', 'country': 'Great Britain', 'surface': 'Outdoor Grass', 'code': 'ATP', 'start_date': '2020-06-15', 'end_date': '2020-06-21', 'season': 2020, 'country_code': False}, {'id': 1178, 'name': 'Mallorca Championships (Suspended)', 'city': 'Mallorca', 'country': 'Spain', 'surface': 'Outdoor Grass', 'code': 'ATP', 'start_date': '2020-06-21', 'end_date': '2020-06-27', 'season': 2020, 'country_code': 'ESP'}, {'id': 1179, 'name': 'Nature Valley International (Suspended)', 'city': 'Eastbourne', 'country': 'Great Britain', 'surface': 'Outdoor Grass', 'code': 'ATP', 'start_date': '2020-06-22', 'end_date': '2020-06-27', 'season': 2020, 'country_code': False}, {'id': 1180, 'name': 'Wimbledon (Suspended)', 'city': 'London', 'country': 'Great Britain', 'surface': 'Outdoor Grass', 'code': 'ATP', 'start_date': '2020-06-29', 'end_date': '2020-07-12', 'season': 2020, 'country_code': False}, {'id': 1181, 'name': 'Hall of Fame Open (Suspended)', 'city': 'Newport', 'country': 'USA', 'surface': 'Outdoor Grass', 'code': 'ATP', 'start_date': '2020-07-13', 'end_date': '2020-07-19', 'season': 2020, 'country_code': 'USA'}, {'id': 1183, 'name': 'Nordea Open (Suspended)', 'city': 'Bastad', 'country': 'Sweden', 'surface': 'Outdoor Clay', 'code': 'ATP', 'start_date': '2020-07-13', 'end_date': '2020-07-19', 'season': 2020, 'country_code': 'SWE'}, {'id': 1185, 'name': 'Abierto de Tenis Mifel presentado por Cinemex (Suspended)', 'city': 'Los Cabos', 'country': 'Mexico', 'surface': 'Outdoor Hard', 'code': 'ATP', 'start_date': '2020-07-20', 'end_date': '2020-07-25', 'season': 2020, 'country_code': 'MEX'}, {'id': 1186, 'name': 'Swiss Open Gstaad (Suspended)', 'city': 'Gstaad', 'country': 'Switzerland', 'surface': 'Outdoor Clay', 'code': 'ATP', 'start_date': '2020-07-20', 'end_date': '2020-07-26', 'season': 2020, 'country_code': 'CHE'}, {'id': 1187, 'name': 'Plava Laguna Croatia Open Umag (Suspended)', 'city': 'Umag', 'country': 'Croatia', 'surface': 'Outdoor Clay', 'code': 'ATP', 'start_date': '2020-07-20', 'end_date': '2020-07-26', 'season': 2020, 'country_code': 'HRV'}, {'id': 1189, 'name': 'Truist Atlanta Open (Suspended)', 'city': 'Atlanta', 'country': 'USA', 'surface': 'Outdoor Hard', 'code': 'ATP', 'start_date': '2020-07-27', 'end_date': '2020-08-02', 'season': 2020, 'country_code': 'USA'}, {'id': 1192, 'name': 'Rogers Cup (Suspended)', 'city': 'Toronto', 'country': 'Canada', 'surface': 'Outdoor Hard', 'code': 'ATP', 'start_date': '2020-08-10', 'end_date': '2020-08-16', 'season': 2020, 'country_code': 'CAN'}, {'id': 1191, 'name': 'Citi Open (Suspended)', 'city': 'Washington', 'country': 'USA', 'surface': 'Outdoor Hard', 'code': 'ATP', 'start_date': '2020-08-14', 'end_date': '2020-08-21', 'season': 2020, 'country_code': 'USA'}, {'id': 1193, 'name': 'Western & Southern Open', 'city': 'New York', 'country': 'USA', 'surface': 'Outdoor Hard', 'code': 'ATP', 'start_date': '2020-08-22', 'end_date': '2020-08-29', 'season': 2020, 'country_code': 'USA'}, {'id': 1194, 'name': 'Winston-Salem Open (Suspended)', 'city': 'Winston-Salem', 'country': 'USA', 'surface': 'Outdoor Hard', 'code': 'ATP', 'start_date': '2020-08-23', 'end_date': '2020-08-29', 'season': 2020, 'country_code': 'USA'}, {'id': 1195, 'name': 'US Open', 'city': 'New York', 'country': 'USA', 'surface': 'Outdoor Hard', 'code': 'ATP', 'start_date': '2020-08-31', 'end_date': '2020-09-13', 'season': 2020, 'country_code': 'USA'}, {'id': 1190, 'name': 'Generali Open', 'city': 'Kitzbuhel', 'country': 'Austria', 'surface': 'Outdoor Clay', 'code': 'ATP', 'start_date': '2020-09-08', 'end_date': '2020-09-13', 'season': 2020, 'country_code': 'AUT'}, {'id': 1169, 'name': 'Mutua Madrid Open (Suspended)', 'city': 'Madrid', 'country': 'Spain', 'surface': 'Outdoor Clay', 'code': 'ATP', 'start_date': '2020-09-13', 'end_date': '2020-09-20', 'season': 2020, 'country_code': 'ESP'}, {'id': 1170, 'name': \"Internazionali BNL d'Italia\", 'city': 'Rome', 'country': 'Italy', 'surface': 'Outdoor Clay', 'code': 'ATP', 'start_date': '2020-09-14', 'end_date': '2020-09-21', 'season': 2020, 'country_code': 'ITA'}, {'id': 1182, 'name': 'Hamburg European Open', 'city': 'Hamburg', 'country': 'Germany', 'surface': 'Outdoor Clay', 'code': 'ATP', 'start_date': '2020-09-21', 'end_date': '2020-09-27', 'season': 2020, 'country_code': 'DEU'}, {'id': 1197, 'name': 'Moselle Open (Suspended)', 'city': 'Metz', 'country': 'France', 'surface': 'Indoor Hard', 'code': 'ATP', 'start_date': '2020-09-21', 'end_date': '2020-09-27', 'season': 2020, 'country_code': 'FRA'}, {'id': 1173, 'name': 'Roland Garros', 'city': 'Paris', 'country': 'France', 'surface': 'Outdoor Clay', 'code': 'ATP', 'start_date': '2020-09-27', 'end_date': '2020-10-11', 'season': 2020, 'country_code': 'FRA'}, {'id': 1200, 'name': 'Chengdu Open (Suspended)', 'city': 'Chengdu', 'country': 'China', 'surface': 'Outdoor Hard', 'code': 'ATP', 'start_date': '2020-09-28', 'end_date': '2020-10-04', 'season': 2020, 'country_code': 'CHN'}, {'id': 1201, 'name': 'Zhuhai Championships (Suspended)', 'city': 'Zhuhai', 'country': 'China', 'surface': 'Outdoor Hard', 'code': 'ATP', 'start_date': '2020-09-28', 'end_date': '2020-10-04', 'season': 2020, 'country_code': 'CHN'}, {'id': 1203, 'name': 'China Open (Suspended)', 'city': 'Beijing', 'country': 'China', 'surface': 'Outdoor Hard', 'code': 'ATP', 'start_date': '2020-10-05', 'end_date': '2020-10-11', 'season': 2020, 'country_code': 'CHN'}, {'id': 1204, 'name': 'Rakuten Japan Open Tennis Championships (Suspended)', 'city': 'Tokyo', 'country': 'Japan', 'surface': 'Outdoor Hard', 'code': 'ATP', 'start_date': '2020-10-05', 'end_date': '2020-10-11', 'season': 2020, 'country_code': 'JPN'}, {'id': 1205, 'name': 'Rolex Shanghai Masters (Suspended)', 'city': 'Shanghai', 'country': 'China', 'surface': 'Outdoor Hard', 'code': 'ATP', 'start_date': '2020-10-11', 'end_date': '2020-10-18', 'season': 2020, 'country_code': 'CHN'}, {'id': 1198, 'name': 'St. Petersburg Open', 'city': 'St. Petersburg', 'country': 'Russia', 'surface': 'Indoor Hard', 'code': 'ATP', 'start_date': '2020-10-12', 'end_date': '2020-10-18', 'season': 2020, 'country_code': False}, {'id': 1274, 'name': 'Forte Village Sardegna Open', 'city': 'Sardinia', 'country': 'Italy', 'surface': 'Outdoor Clay', 'code': 'ATP', 'start_date': '2020-10-12', 'end_date': '2020-10-18', 'season': 2020, 'country_code': 'ITA'}, {'id': 1273, 'name': 'bett1HULKS Indoors', 'city': 'Cologne', 'country': 'Germany', 'surface': 'Indoor Hard', 'code': 'ATP', 'start_date': '2020-10-12', 'end_date': '2020-10-18', 'season': 2020, 'country_code': 'DEU'}, {'id': 1207, 'name': 'Stockholm Open (Suspended)', 'city': 'Stockholm', 'country': 'Sweden', 'surface': 'Indoor Hard', 'code': 'ATP', 'start_date': '2020-10-19', 'end_date': '2020-10-25', 'season': 2020, 'country_code': 'SWE'}, {'id': 1208, 'name': 'VTB Kremlin Cup (Suspended)', 'city': 'Moscow', 'country': 'Russia', 'surface': 'Indoor Hard', 'code': 'ATP', 'start_date': '2020-10-19', 'end_date': '2020-10-25', 'season': 2020, 'country_code': False}, {'id': 1206, 'name': 'European Open', 'city': 'Antwerp', 'country': 'Belgium', 'surface': 'Indoor Hard', 'code': 'ATP', 'start_date': '2020-10-19', 'end_date': '2020-10-25', 'season': 2020, 'country_code': 'BEL'}, {'id': 1275, 'name': 'bett1HULKS Championships', 'city': 'Cologne II', 'country': 'Germany', 'surface': 'Indoor Hard', 'code': 'ATP', 'start_date': '2020-10-19', 'end_date': '2020-10-25', 'season': 2020, 'country_code': 'DEU'}, {'id': 1209, 'name': 'Erste Bank Open', 'city': 'Vienna', 'country': 'Austria', 'surface': 'Indoor Hard', 'code': 'ATP', 'start_date': '2020-10-26', 'end_date': '2020-11-01', 'season': 2020, 'country_code': 'AUT'}, {'id': 1210, 'name': 'Swiss Indoors Basel (Suspended)', 'city': 'Basel', 'country': 'Switzerland', 'surface': 'Indoor Hard', 'code': 'ATP', 'start_date': '2020-10-26', 'end_date': '2020-11-01', 'season': 2020, 'country_code': 'CHE'}, {'id': 1276, 'name': 'Astana Open', 'city': 'Nur-Sultan', 'country': 'Kazakhstan', 'surface': 'Indoor Hard', 'code': 'ATP', 'start_date': '2020-10-26', 'end_date': '2020-11-01', 'season': 2020, 'country_code': 'KAZ'}, {'id': 1211, 'name': 'Rolex Paris Masters', 'city': 'Paris', 'country': 'France', 'surface': 'Indoor Hard', 'code': 'ATP', 'start_date': '2020-11-02', 'end_date': '2020-11-08', 'season': 2020, 'country_code': 'FRA'}, {'id': 1202, 'name': 'Sofia Open', 'city': 'Sofia', 'country': 'Bulgaria', 'surface': 'Indoor Hard', 'code': 'ATP', 'start_date': '2020-11-08', 'end_date': '2020-11-14', 'season': 2020, 'country_code': 'BGR'}, {'id': 1212, 'name': 'Next Gen ATP Finals (Suspended)', 'city': 'Milan', 'country': 'Italy', 'surface': 'Indoor Hard', 'code': 'ATP', 'start_date': '2020-11-10', 'end_date': '2020-11-14', 'season': 2020, 'country_code': 'ITA'}, {'id': 1213, 'name': 'Nitto ATP Finals', 'city': 'London', 'country': 'Great Britain', 'surface': 'Indoor Hard', 'code': 'ATP', 'start_date': '2020-11-15', 'end_date': '2020-11-22', 'season': 2020, 'country_code': False}]}\n"
     ]
    }
   ],
   "source": [
    "# this gives a list of ATP tornaments\n",
    "\n",
    "import requests\n",
    "api_key = '8556d4b2f5mshddae5c2b7778158p1b7b83jsn131f0acf695b'\n",
    "# Replace YOUR_API_KEY with your RapidAPI key\n",
    "headers = {\n",
    "    \"x-rapidapi-key\": \"8556d4b2f5mshddae5c2b7778158p1b7b83jsn131f0acf695b\",\n",
    "    \"x-rapidapi-host\": \"tennis-live-data.p.rapidapi.com\"\n",
    "}\n",
    "\n",
    "# Replace the example endpoint with the actual endpoint you want to call\n",
    "endpoint = \"https://tennis-live-data.p.rapidapi.com/tournaments/ATP/2020\"\n",
    "\n",
    "\n",
    "\n",
    "response = requests.get(endpoint, headers=headers)\n",
    "\n",
    "# Print the response content\n",
    "print(response.json())"
   ]
  },
  {
   "cell_type": "code",
   "execution_count": 10,
   "id": "76d4ab64",
   "metadata": {},
   "outputs": [
    {
     "data": {
      "text/plain": [
       "{'message': 'Invalid API key. Go to https://docs.rapidapi.com/docs/keys for more info.'}"
      ]
     },
     "execution_count": 10,
     "metadata": {},
     "output_type": "execute_result"
    }
   ],
   "source": [
    "data"
   ]
  },
  {
   "cell_type": "code",
   "execution_count": 8,
   "id": "bf65dd7c",
   "metadata": {},
   "outputs": [],
   "source": [
    "import requests\n",
    "from bs4 import BeautifulSoup\n",
    "\n",
    "def parents_have_wiki(url):\n",
    "    parents = []  # initialize the parents list\n",
    "    last_name = None  # initialize the last name variable\n",
    "    \n",
    "    # Make a request to the URL and get the HTML response\n",
    "    response = requests.get(url)\n",
    "    html = response.content\n",
    "    \n",
    "    # Parse the HTML with BeautifulSoup\n",
    "    soup = BeautifulSoup(html, 'html.parser')\n",
    "    \n",
    "    # Find the \"Personal life\" section on the page\n",
    "    personal_life_section = soup.find('span', {'id': 'Personal_life'})\n",
    "    \n",
    "    # Look for parents in the infobox\n",
    "    infobox = soup.find('table', {'class': 'infobox'})\n",
    "    if infobox:\n",
    "        for row in infobox.find_all('tr'):\n",
    "            th = row.find('th')\n",
    "            if th and 'Parent' in th.text:\n",
    "                td = row.find('td')\n",
    "                for link in td.find_all('a'):\n",
    "                    href = link.get('href')\n",
    "                    if href and '/wiki/' in href and 'Wikipedia:' not in href:\n",
    "                        # Add the parent's URL to the list\n",
    "                        parents.append(href)\n",
    "    \n",
    "    # Look for parents in the \"Personal life\" section\n",
    "    if personal_life_section is not None:\n",
    "        personal_life_content = personal_life_section.parent.find_next_sibling('div', {'class': 'hatnote'})\n",
    "        if personal_life_content is not None:\n",
    "            for content in personal_life_content.find_all('li'):\n",
    "                for link in content.find_all('a'):\n",
    "                    href = link.get('href')\n",
    "                    if href and '/wiki/' in href and 'Wikipedia:' not in href:\n",
    "                        # Check if the hyperlink points to a person with the same last name\n",
    "                        link_text = link.text\n",
    "                        if last_name is None:\n",
    "                            # Get the last name of the person whose page we're on\n",
    "                            name = soup.find('h1', {'id': 'firstHeading'}).text\n",
    "                            last_name = name.split()[-1]\n",
    "                        if last_name in link_text:\n",
    "                            # Add the parent's URL to the list\n",
    "                            parents.append(href)\n",
    "    \n",
    "    # Check if both parents have Wikipedia pages\n",
    "    for parent in parents:\n",
    "        parent_url = 'https://en.wikipedia.org' + parent\n",
    "        parent_response = requests.get(parent_url)\n",
    "        parent_soup = BeautifulSoup(parent_response.content, 'html.parser')\n",
    "        parent_title = parent_soup.find('h1', {'id': 'firstHeading'}).text\n",
    "        if parent_title != 'Wikipedia':\n",
    "            # Check if the parent's page exists\n",
    "            return True\n",
    "    \n",
    "    return False\n"
   ]
  },
  {
   "cell_type": "code",
   "execution_count": 9,
   "id": "9525bf79",
   "metadata": {},
   "outputs": [
    {
     "data": {
      "text/plain": [
       "False"
      ]
     },
     "execution_count": 9,
     "metadata": {},
     "output_type": "execute_result"
    }
   ],
   "source": [
    "parents_have_wiki(\"https://en.wikipedia.org/wiki/Je%C4%BCena_Ostapenko\")"
   ]
  },
  {
   "cell_type": "code",
   "execution_count": 10,
   "id": "acb1956c",
   "metadata": {},
   "outputs": [
    {
     "data": {
      "text/plain": [
       "False"
      ]
     },
     "execution_count": 10,
     "metadata": {},
     "output_type": "execute_result"
    }
   ],
   "source": [
    "parents_have_wiki(\"https://en.wikipedia.org/wiki/Jessica_Pegula\")"
   ]
  },
  {
   "cell_type": "code",
   "execution_count": null,
   "id": "93cba7e7",
   "metadata": {},
   "outputs": [],
   "source": []
  }
 ],
 "metadata": {
  "kernelspec": {
   "display_name": "Python 3 (ipykernel)",
   "language": "python",
   "name": "python3"
  },
  "language_info": {
   "codemirror_mode": {
    "name": "ipython",
    "version": 3
   },
   "file_extension": ".py",
   "mimetype": "text/x-python",
   "name": "python",
   "nbconvert_exporter": "python",
   "pygments_lexer": "ipython3",
   "version": "3.9.13"
  }
 },
 "nbformat": 4,
 "nbformat_minor": 5
}
